{
 "cells": [
  {
   "cell_type": "markdown",
   "metadata": {},
   "source": [
    "# Major Types of Data\n",
    "1. Numerical\n",
    "2. Categorical\n",
    "3. Ordinal"
   ]
  },
  {
   "cell_type": "markdown",
   "metadata": {},
   "source": [
    "### Numerical\n",
    "    - Represents some sort of quantitatvie measurement\n",
    "        + Heights of people, page load times , stock prices, etc.\n",
    "    - Discrete Data\n",
    "        + Integer based; often counts of some event.\n",
    "            * how many purchases did a customer make in a year?\n",
    "            * How many times did I flip 'heads'?\n",
    "    - Continuous Data\n",
    "        + Has an infinite number of possible values\n",
    "            * How much time did it take for a user to check out?\n",
    "            * How much rain fell on a given day?"
   ]
  },
  {
   "cell_type": "markdown",
   "metadata": {},
   "source": [
    "### Categorical\n",
    "    - Qualitative data that has no inherent mathematical meaning\n",
    "        + Gender\n",
    "    - You can assign numbers to categories in order to represent them more compactly"
   ]
  },
  {
   "cell_type": "markdown",
   "metadata": {},
   "source": [
    "### Ordinal\n",
    "    - A mix ture of numberical and categorical\n",
    "    - Categorical data that has mathematical meaning"
   ]
  }
 ],
 "metadata": {
  "anaconda-cloud": {},
  "kernelspec": {
   "display_name": "Python [Root]",
   "language": "python",
   "name": "Python [Root]"
  },
  "language_info": {
   "codemirror_mode": {
    "name": "ipython",
    "version": 3
   },
   "file_extension": ".py",
   "mimetype": "text/x-python",
   "name": "python",
   "nbconvert_exporter": "python",
   "pygments_lexer": "ipython3",
   "version": "3.5.2"
  }
 },
 "nbformat": 4,
 "nbformat_minor": 0
}
