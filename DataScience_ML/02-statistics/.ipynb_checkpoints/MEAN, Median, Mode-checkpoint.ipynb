{
 "cells": [
  {
   "cell_type": "markdown",
   "metadata": {},
   "source": [
    "### Mean\n",
    "    - AKA Average\n",
    "    - (1,2,3,4,5,6,7,8,9): (1+2+3+4+5+6+7+8+9) / 9"
   ]
  },
  {
   "cell_type": "markdown",
   "metadata": {},
   "source": [
    "### Median\n",
    "    - Sort the values, and take the value at the midpoint\n",
    "    - (1,2,3,4,5,6,7,8,9) => 5\n",
    "    - if you have an even number of samples, take the average of the two in the middle"
   ]
  },
  {
   "cell_type": "markdown",
   "metadata": {},
   "source": [
    "### Mode\n",
    "    - The most common value in a data set\n",
    "    - ex.0,2,3,2,1,0,0,2,0 => the MODE is 0"
   ]
  }
 ],
 "metadata": {
  "kernelspec": {
   "display_name": "Python [Root]",
   "language": "python",
   "name": "Python [Root]"
  },
  "language_info": {
   "codemirror_mode": {
    "name": "ipython",
    "version": 3
   },
   "file_extension": ".py",
   "mimetype": "text/x-python",
   "name": "python",
   "nbconvert_exporter": "python",
   "pygments_lexer": "ipython3",
   "version": "3.5.2"
  }
 },
 "nbformat": 4,
 "nbformat_minor": 0
}
